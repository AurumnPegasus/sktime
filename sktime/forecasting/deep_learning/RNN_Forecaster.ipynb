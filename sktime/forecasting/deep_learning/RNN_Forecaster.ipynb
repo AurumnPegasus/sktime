{
 "cells": [
  {
   "cell_type": "code",
   "execution_count": 45,
   "metadata": {
    "id": "VC01y6S3OxEg"
   },
   "outputs": [],
   "source": [
    "from datetime import datetime\n",
    "\n",
    "import pandas as pd"
   ]
  },
  {
   "cell_type": "code",
   "execution_count": 2,
   "metadata": {
    "id": "p5aKT9WcPEeQ"
   },
   "outputs": [],
   "source": [
    "def parse(x):\n",
    "    return datetime.strptime(x, \"%Y %m %d %H\")"
   ]
  },
  {
   "cell_type": "code",
   "execution_count": 3,
   "metadata": {
    "id": "mU9XC-Y8O3Bt"
   },
   "outputs": [],
   "source": [
    "dataset = pd.read_csv(\n",
    "    \"pollution.csv\",\n",
    "    parse_dates=[[\"year\", \"month\", \"day\", \"hour\"]],\n",
    "    index_col=0,\n",
    "    date_parser=parse,\n",
    ")"
   ]
  },
  {
   "cell_type": "code",
   "execution_count": 4,
   "metadata": {
    "id": "Wvjv9VyiPIVu"
   },
   "outputs": [],
   "source": [
    "dataset.drop(\"No\", axis=1, inplace=True)"
   ]
  },
  {
   "cell_type": "code",
   "execution_count": 5,
   "metadata": {
    "id": "Gjw-rCfKPQs2"
   },
   "outputs": [],
   "source": [
    "dataset.columns = [\n",
    "    \"pollution\",\n",
    "    \"dew\",\n",
    "    \"temp\",\n",
    "    \"press\",\n",
    "    \"wnd_dir\",\n",
    "    \"wnd_spd\",\n",
    "    \"snow\",\n",
    "    \"rain\",\n",
    "]\n",
    "dataset.index.name = \"date\"\n",
    "# mark all NA values with 0\n",
    "dataset[\"pollution\"].fillna(0, inplace=True)\n",
    "# drop the first 24 hours\n",
    "dataset = dataset[24:]"
   ]
  },
  {
   "cell_type": "code",
   "execution_count": 6,
   "metadata": {
    "colab": {
     "base_uri": "https://localhost:8080/",
     "height": 238
    },
    "id": "Z0m097j8Pabb",
    "outputId": "e364f4a4-c833-43a5-ab4f-26aceb210ab9"
   },
   "outputs": [
    {
     "data": {
      "text/html": [
       "<div>\n",
       "<style scoped>\n",
       "    .dataframe tbody tr th:only-of-type {\n",
       "        vertical-align: middle;\n",
       "    }\n",
       "\n",
       "    .dataframe tbody tr th {\n",
       "        vertical-align: top;\n",
       "    }\n",
       "\n",
       "    .dataframe thead th {\n",
       "        text-align: right;\n",
       "    }\n",
       "</style>\n",
       "<table border=\"1\" class=\"dataframe\">\n",
       "  <thead>\n",
       "    <tr style=\"text-align: right;\">\n",
       "      <th></th>\n",
       "      <th>pollution</th>\n",
       "      <th>dew</th>\n",
       "      <th>temp</th>\n",
       "      <th>press</th>\n",
       "      <th>wnd_dir</th>\n",
       "      <th>wnd_spd</th>\n",
       "      <th>snow</th>\n",
       "      <th>rain</th>\n",
       "    </tr>\n",
       "    <tr>\n",
       "      <th>date</th>\n",
       "      <th></th>\n",
       "      <th></th>\n",
       "      <th></th>\n",
       "      <th></th>\n",
       "      <th></th>\n",
       "      <th></th>\n",
       "      <th></th>\n",
       "      <th></th>\n",
       "    </tr>\n",
       "  </thead>\n",
       "  <tbody>\n",
       "    <tr>\n",
       "      <th>2010-01-02 00:00:00</th>\n",
       "      <td>129.0</td>\n",
       "      <td>-16</td>\n",
       "      <td>-4.0</td>\n",
       "      <td>1020.0</td>\n",
       "      <td>SE</td>\n",
       "      <td>1.79</td>\n",
       "      <td>0</td>\n",
       "      <td>0</td>\n",
       "    </tr>\n",
       "    <tr>\n",
       "      <th>2010-01-02 01:00:00</th>\n",
       "      <td>148.0</td>\n",
       "      <td>-15</td>\n",
       "      <td>-4.0</td>\n",
       "      <td>1020.0</td>\n",
       "      <td>SE</td>\n",
       "      <td>2.68</td>\n",
       "      <td>0</td>\n",
       "      <td>0</td>\n",
       "    </tr>\n",
       "    <tr>\n",
       "      <th>2010-01-02 02:00:00</th>\n",
       "      <td>159.0</td>\n",
       "      <td>-11</td>\n",
       "      <td>-5.0</td>\n",
       "      <td>1021.0</td>\n",
       "      <td>SE</td>\n",
       "      <td>3.57</td>\n",
       "      <td>0</td>\n",
       "      <td>0</td>\n",
       "    </tr>\n",
       "    <tr>\n",
       "      <th>2010-01-02 03:00:00</th>\n",
       "      <td>181.0</td>\n",
       "      <td>-7</td>\n",
       "      <td>-5.0</td>\n",
       "      <td>1022.0</td>\n",
       "      <td>SE</td>\n",
       "      <td>5.36</td>\n",
       "      <td>1</td>\n",
       "      <td>0</td>\n",
       "    </tr>\n",
       "    <tr>\n",
       "      <th>2010-01-02 04:00:00</th>\n",
       "      <td>138.0</td>\n",
       "      <td>-7</td>\n",
       "      <td>-5.0</td>\n",
       "      <td>1022.0</td>\n",
       "      <td>SE</td>\n",
       "      <td>6.25</td>\n",
       "      <td>2</td>\n",
       "      <td>0</td>\n",
       "    </tr>\n",
       "  </tbody>\n",
       "</table>\n",
       "</div>"
      ],
      "text/plain": [
       "                     pollution  dew  temp   press wnd_dir  wnd_spd  snow  rain\n",
       "date                                                                          \n",
       "2010-01-02 00:00:00      129.0  -16  -4.0  1020.0      SE     1.79     0     0\n",
       "2010-01-02 01:00:00      148.0  -15  -4.0  1020.0      SE     2.68     0     0\n",
       "2010-01-02 02:00:00      159.0  -11  -5.0  1021.0      SE     3.57     0     0\n",
       "2010-01-02 03:00:00      181.0   -7  -5.0  1022.0      SE     5.36     1     0\n",
       "2010-01-02 04:00:00      138.0   -7  -5.0  1022.0      SE     6.25     2     0"
      ]
     },
     "execution_count": 6,
     "metadata": {},
     "output_type": "execute_result"
    }
   ],
   "source": [
    "dataset.head()"
   ]
  },
  {
   "cell_type": "code",
   "execution_count": 7,
   "metadata": {
    "id": "Z2h3vsQRPcv5"
   },
   "outputs": [],
   "source": [
    "from sklearn.preprocessing import LabelEncoder, MinMaxScaler"
   ]
  },
  {
   "cell_type": "code",
   "execution_count": 8,
   "metadata": {
    "id": "GP3Kfz-FRCOc"
   },
   "outputs": [],
   "source": [
    "encoder = LabelEncoder()\n",
    "values = dataset.values"
   ]
  },
  {
   "cell_type": "code",
   "execution_count": 9,
   "metadata": {
    "id": "C8VjvjuKRIt8"
   },
   "outputs": [],
   "source": [
    "values[:, 4] = encoder.fit_transform(values[:, 4])"
   ]
  },
  {
   "cell_type": "code",
   "execution_count": 10,
   "metadata": {
    "id": "Rev8xkNcRNui"
   },
   "outputs": [],
   "source": [
    "scaler = MinMaxScaler(feature_range=(0, 1))"
   ]
  },
  {
   "cell_type": "code",
   "execution_count": 11,
   "metadata": {
    "id": "45clKKnjRSmu"
   },
   "outputs": [],
   "source": [
    "scaled = scaler.fit_transform(values)"
   ]
  },
  {
   "cell_type": "code",
   "execution_count": 12,
   "metadata": {
    "id": "398j-EzQRUK6"
   },
   "outputs": [],
   "source": [
    "def series_to_supervised(data, n_in=1, n_out=1, dropnan=True):\n",
    "    n_vars = 1 if type(data) is list else data.shape[1]\n",
    "    df = pd.DataFrame(data)\n",
    "    cols, names = list(), list()\n",
    "\n",
    "    # input sequence (t-n, ... t-1)\n",
    "    for i in range(n_in, 0, -1):\n",
    "        cols.append(df.shift(i))\n",
    "        names += [(\"var%d(t-%d)\" % (j + 1, i)) for j in range(n_vars)]\n",
    "\n",
    "    # forecast sequence (t, t+1, ... t+n)\n",
    "    for i in range(0, n_out):\n",
    "        cols.append(df.shift(-i))\n",
    "        if i == 0:\n",
    "            names += [(\"var%d(t)\" % (j + 1)) for j in range(n_vars)]\n",
    "        else:\n",
    "            names += [(\"var%d(t+%d)\" % (j + 1, i)) for j in range(n_vars)]\n",
    "\n",
    "    # put it all together\n",
    "    agg = pd.concat(cols, axis=1)\n",
    "    agg.columns = names\n",
    "    # drop rows with NaN values\n",
    "    if dropnan:\n",
    "        agg.dropna(inplace=True)\n",
    "    return agg"
   ]
  },
  {
   "cell_type": "code",
   "execution_count": 13,
   "metadata": {
    "id": "YUK8ClhGS9Sh"
   },
   "outputs": [],
   "source": [
    "reframed = series_to_supervised(scaled, 1, 1)\n",
    "\n",
    "# dropping cols we dont want to predict\n",
    "reframed.drop(reframed.columns[[9, 10, 11, 12, 13, 14, 15]], axis=1, inplace=True)"
   ]
  },
  {
   "cell_type": "code",
   "execution_count": 14,
   "metadata": {
    "colab": {
     "base_uri": "https://localhost:8080/",
     "height": 206
    },
    "id": "Tdn1eJrWTHwq",
    "outputId": "9392acff-f51a-472b-f31f-0221e400cf52"
   },
   "outputs": [
    {
     "data": {
      "text/html": [
       "<div>\n",
       "<style scoped>\n",
       "    .dataframe tbody tr th:only-of-type {\n",
       "        vertical-align: middle;\n",
       "    }\n",
       "\n",
       "    .dataframe tbody tr th {\n",
       "        vertical-align: top;\n",
       "    }\n",
       "\n",
       "    .dataframe thead th {\n",
       "        text-align: right;\n",
       "    }\n",
       "</style>\n",
       "<table border=\"1\" class=\"dataframe\">\n",
       "  <thead>\n",
       "    <tr style=\"text-align: right;\">\n",
       "      <th></th>\n",
       "      <th>var1(t-1)</th>\n",
       "      <th>var2(t-1)</th>\n",
       "      <th>var3(t-1)</th>\n",
       "      <th>var4(t-1)</th>\n",
       "      <th>var5(t-1)</th>\n",
       "      <th>var6(t-1)</th>\n",
       "      <th>var7(t-1)</th>\n",
       "      <th>var8(t-1)</th>\n",
       "      <th>var1(t)</th>\n",
       "    </tr>\n",
       "  </thead>\n",
       "  <tbody>\n",
       "    <tr>\n",
       "      <th>1</th>\n",
       "      <td>0.129779</td>\n",
       "      <td>0.352941</td>\n",
       "      <td>0.245902</td>\n",
       "      <td>0.527273</td>\n",
       "      <td>0.666667</td>\n",
       "      <td>0.002290</td>\n",
       "      <td>0.000000</td>\n",
       "      <td>0.0</td>\n",
       "      <td>0.148893</td>\n",
       "    </tr>\n",
       "    <tr>\n",
       "      <th>2</th>\n",
       "      <td>0.148893</td>\n",
       "      <td>0.367647</td>\n",
       "      <td>0.245902</td>\n",
       "      <td>0.527273</td>\n",
       "      <td>0.666667</td>\n",
       "      <td>0.003811</td>\n",
       "      <td>0.000000</td>\n",
       "      <td>0.0</td>\n",
       "      <td>0.159960</td>\n",
       "    </tr>\n",
       "    <tr>\n",
       "      <th>3</th>\n",
       "      <td>0.159960</td>\n",
       "      <td>0.426471</td>\n",
       "      <td>0.229508</td>\n",
       "      <td>0.545455</td>\n",
       "      <td>0.666667</td>\n",
       "      <td>0.005332</td>\n",
       "      <td>0.000000</td>\n",
       "      <td>0.0</td>\n",
       "      <td>0.182093</td>\n",
       "    </tr>\n",
       "    <tr>\n",
       "      <th>4</th>\n",
       "      <td>0.182093</td>\n",
       "      <td>0.485294</td>\n",
       "      <td>0.229508</td>\n",
       "      <td>0.563636</td>\n",
       "      <td>0.666667</td>\n",
       "      <td>0.008391</td>\n",
       "      <td>0.037037</td>\n",
       "      <td>0.0</td>\n",
       "      <td>0.138833</td>\n",
       "    </tr>\n",
       "    <tr>\n",
       "      <th>5</th>\n",
       "      <td>0.138833</td>\n",
       "      <td>0.485294</td>\n",
       "      <td>0.229508</td>\n",
       "      <td>0.563636</td>\n",
       "      <td>0.666667</td>\n",
       "      <td>0.009912</td>\n",
       "      <td>0.074074</td>\n",
       "      <td>0.0</td>\n",
       "      <td>0.109658</td>\n",
       "    </tr>\n",
       "  </tbody>\n",
       "</table>\n",
       "</div>"
      ],
      "text/plain": [
       "   var1(t-1)  var2(t-1)  var3(t-1)  var4(t-1)  var5(t-1)  var6(t-1)  \\\n",
       "1   0.129779   0.352941   0.245902   0.527273   0.666667   0.002290   \n",
       "2   0.148893   0.367647   0.245902   0.527273   0.666667   0.003811   \n",
       "3   0.159960   0.426471   0.229508   0.545455   0.666667   0.005332   \n",
       "4   0.182093   0.485294   0.229508   0.563636   0.666667   0.008391   \n",
       "5   0.138833   0.485294   0.229508   0.563636   0.666667   0.009912   \n",
       "\n",
       "   var7(t-1)  var8(t-1)   var1(t)  \n",
       "1   0.000000        0.0  0.148893  \n",
       "2   0.000000        0.0  0.159960  \n",
       "3   0.000000        0.0  0.182093  \n",
       "4   0.037037        0.0  0.138833  \n",
       "5   0.074074        0.0  0.109658  "
      ]
     },
     "execution_count": 14,
     "metadata": {},
     "output_type": "execute_result"
    }
   ],
   "source": [
    "reframed.head()"
   ]
  },
  {
   "cell_type": "code",
   "execution_count": 15,
   "metadata": {
    "id": "8gQxNYTITJ0W"
   },
   "outputs": [],
   "source": [
    "n_train_hours = 365 * 24\n",
    "train = reframed[:n_train_hours]\n",
    "test = reframed[n_train_hours:]"
   ]
  },
  {
   "cell_type": "code",
   "execution_count": 16,
   "metadata": {
    "colab": {
     "base_uri": "https://localhost:8080/",
     "height": 206
    },
    "id": "W_1ybvVlOG7y",
    "outputId": "43b1ff23-5f94-493b-9551-3fe3bbf3e7e9"
   },
   "outputs": [
    {
     "data": {
      "text/html": [
       "<div>\n",
       "<style scoped>\n",
       "    .dataframe tbody tr th:only-of-type {\n",
       "        vertical-align: middle;\n",
       "    }\n",
       "\n",
       "    .dataframe tbody tr th {\n",
       "        vertical-align: top;\n",
       "    }\n",
       "\n",
       "    .dataframe thead th {\n",
       "        text-align: right;\n",
       "    }\n",
       "</style>\n",
       "<table border=\"1\" class=\"dataframe\">\n",
       "  <thead>\n",
       "    <tr style=\"text-align: right;\">\n",
       "      <th></th>\n",
       "      <th>var1(t-1)</th>\n",
       "      <th>var2(t-1)</th>\n",
       "      <th>var3(t-1)</th>\n",
       "      <th>var4(t-1)</th>\n",
       "      <th>var5(t-1)</th>\n",
       "      <th>var6(t-1)</th>\n",
       "      <th>var7(t-1)</th>\n",
       "      <th>var8(t-1)</th>\n",
       "      <th>var1(t)</th>\n",
       "    </tr>\n",
       "  </thead>\n",
       "  <tbody>\n",
       "    <tr>\n",
       "      <th>1</th>\n",
       "      <td>0.129779</td>\n",
       "      <td>0.352941</td>\n",
       "      <td>0.245902</td>\n",
       "      <td>0.527273</td>\n",
       "      <td>0.666667</td>\n",
       "      <td>0.002290</td>\n",
       "      <td>0.000000</td>\n",
       "      <td>0.0</td>\n",
       "      <td>0.148893</td>\n",
       "    </tr>\n",
       "    <tr>\n",
       "      <th>2</th>\n",
       "      <td>0.148893</td>\n",
       "      <td>0.367647</td>\n",
       "      <td>0.245902</td>\n",
       "      <td>0.527273</td>\n",
       "      <td>0.666667</td>\n",
       "      <td>0.003811</td>\n",
       "      <td>0.000000</td>\n",
       "      <td>0.0</td>\n",
       "      <td>0.159960</td>\n",
       "    </tr>\n",
       "    <tr>\n",
       "      <th>3</th>\n",
       "      <td>0.159960</td>\n",
       "      <td>0.426471</td>\n",
       "      <td>0.229508</td>\n",
       "      <td>0.545455</td>\n",
       "      <td>0.666667</td>\n",
       "      <td>0.005332</td>\n",
       "      <td>0.000000</td>\n",
       "      <td>0.0</td>\n",
       "      <td>0.182093</td>\n",
       "    </tr>\n",
       "    <tr>\n",
       "      <th>4</th>\n",
       "      <td>0.182093</td>\n",
       "      <td>0.485294</td>\n",
       "      <td>0.229508</td>\n",
       "      <td>0.563636</td>\n",
       "      <td>0.666667</td>\n",
       "      <td>0.008391</td>\n",
       "      <td>0.037037</td>\n",
       "      <td>0.0</td>\n",
       "      <td>0.138833</td>\n",
       "    </tr>\n",
       "    <tr>\n",
       "      <th>5</th>\n",
       "      <td>0.138833</td>\n",
       "      <td>0.485294</td>\n",
       "      <td>0.229508</td>\n",
       "      <td>0.563636</td>\n",
       "      <td>0.666667</td>\n",
       "      <td>0.009912</td>\n",
       "      <td>0.074074</td>\n",
       "      <td>0.0</td>\n",
       "      <td>0.109658</td>\n",
       "    </tr>\n",
       "  </tbody>\n",
       "</table>\n",
       "</div>"
      ],
      "text/plain": [
       "   var1(t-1)  var2(t-1)  var3(t-1)  var4(t-1)  var5(t-1)  var6(t-1)  \\\n",
       "1   0.129779   0.352941   0.245902   0.527273   0.666667   0.002290   \n",
       "2   0.148893   0.367647   0.245902   0.527273   0.666667   0.003811   \n",
       "3   0.159960   0.426471   0.229508   0.545455   0.666667   0.005332   \n",
       "4   0.182093   0.485294   0.229508   0.563636   0.666667   0.008391   \n",
       "5   0.138833   0.485294   0.229508   0.563636   0.666667   0.009912   \n",
       "\n",
       "   var7(t-1)  var8(t-1)   var1(t)  \n",
       "1   0.000000        0.0  0.148893  \n",
       "2   0.000000        0.0  0.159960  \n",
       "3   0.000000        0.0  0.182093  \n",
       "4   0.037037        0.0  0.138833  \n",
       "5   0.074074        0.0  0.109658  "
      ]
     },
     "execution_count": 16,
     "metadata": {},
     "output_type": "execute_result"
    }
   ],
   "source": [
    "train.head()"
   ]
  },
  {
   "cell_type": "code",
   "execution_count": 24,
   "metadata": {
    "id": "k-XPT3RZZen3"
   },
   "outputs": [],
   "source": [
    "X = train.drop(\"var1(t)\", axis=1)\n",
    "y = train[\"var1(t)\"]"
   ]
  },
  {
   "cell_type": "code",
   "execution_count": 26,
   "metadata": {},
   "outputs": [
    {
     "data": {
      "text/html": [
       "<div>\n",
       "<style scoped>\n",
       "    .dataframe tbody tr th:only-of-type {\n",
       "        vertical-align: middle;\n",
       "    }\n",
       "\n",
       "    .dataframe tbody tr th {\n",
       "        vertical-align: top;\n",
       "    }\n",
       "\n",
       "    .dataframe thead th {\n",
       "        text-align: right;\n",
       "    }\n",
       "</style>\n",
       "<table border=\"1\" class=\"dataframe\">\n",
       "  <thead>\n",
       "    <tr style=\"text-align: right;\">\n",
       "      <th></th>\n",
       "      <th>var1(t-1)</th>\n",
       "      <th>var2(t-1)</th>\n",
       "      <th>var3(t-1)</th>\n",
       "      <th>var4(t-1)</th>\n",
       "      <th>var5(t-1)</th>\n",
       "      <th>var6(t-1)</th>\n",
       "      <th>var7(t-1)</th>\n",
       "      <th>var8(t-1)</th>\n",
       "    </tr>\n",
       "  </thead>\n",
       "  <tbody>\n",
       "    <tr>\n",
       "      <th>1</th>\n",
       "      <td>0.129779</td>\n",
       "      <td>0.352941</td>\n",
       "      <td>0.245902</td>\n",
       "      <td>0.527273</td>\n",
       "      <td>0.666667</td>\n",
       "      <td>0.002290</td>\n",
       "      <td>0.000000</td>\n",
       "      <td>0.0</td>\n",
       "    </tr>\n",
       "    <tr>\n",
       "      <th>2</th>\n",
       "      <td>0.148893</td>\n",
       "      <td>0.367647</td>\n",
       "      <td>0.245902</td>\n",
       "      <td>0.527273</td>\n",
       "      <td>0.666667</td>\n",
       "      <td>0.003811</td>\n",
       "      <td>0.000000</td>\n",
       "      <td>0.0</td>\n",
       "    </tr>\n",
       "    <tr>\n",
       "      <th>3</th>\n",
       "      <td>0.159960</td>\n",
       "      <td>0.426471</td>\n",
       "      <td>0.229508</td>\n",
       "      <td>0.545455</td>\n",
       "      <td>0.666667</td>\n",
       "      <td>0.005332</td>\n",
       "      <td>0.000000</td>\n",
       "      <td>0.0</td>\n",
       "    </tr>\n",
       "    <tr>\n",
       "      <th>4</th>\n",
       "      <td>0.182093</td>\n",
       "      <td>0.485294</td>\n",
       "      <td>0.229508</td>\n",
       "      <td>0.563636</td>\n",
       "      <td>0.666667</td>\n",
       "      <td>0.008391</td>\n",
       "      <td>0.037037</td>\n",
       "      <td>0.0</td>\n",
       "    </tr>\n",
       "    <tr>\n",
       "      <th>5</th>\n",
       "      <td>0.138833</td>\n",
       "      <td>0.485294</td>\n",
       "      <td>0.229508</td>\n",
       "      <td>0.563636</td>\n",
       "      <td>0.666667</td>\n",
       "      <td>0.009912</td>\n",
       "      <td>0.074074</td>\n",
       "      <td>0.0</td>\n",
       "    </tr>\n",
       "  </tbody>\n",
       "</table>\n",
       "</div>"
      ],
      "text/plain": [
       "   var1(t-1)  var2(t-1)  var3(t-1)  var4(t-1)  var5(t-1)  var6(t-1)  \\\n",
       "1   0.129779   0.352941   0.245902   0.527273   0.666667   0.002290   \n",
       "2   0.148893   0.367647   0.245902   0.527273   0.666667   0.003811   \n",
       "3   0.159960   0.426471   0.229508   0.545455   0.666667   0.005332   \n",
       "4   0.182093   0.485294   0.229508   0.563636   0.666667   0.008391   \n",
       "5   0.138833   0.485294   0.229508   0.563636   0.666667   0.009912   \n",
       "\n",
       "   var7(t-1)  var8(t-1)  \n",
       "1   0.000000        0.0  \n",
       "2   0.000000        0.0  \n",
       "3   0.000000        0.0  \n",
       "4   0.037037        0.0  \n",
       "5   0.074074        0.0  "
      ]
     },
     "execution_count": 26,
     "metadata": {},
     "output_type": "execute_result"
    }
   ],
   "source": [
    "X.head()"
   ]
  },
  {
   "cell_type": "code",
   "execution_count": 28,
   "metadata": {},
   "outputs": [
    {
     "data": {
      "text/plain": [
       "1    0.148893\n",
       "2    0.159960\n",
       "3    0.182093\n",
       "4    0.138833\n",
       "5    0.109658\n",
       "Name: var1(t), dtype: float64"
      ]
     },
     "execution_count": 28,
     "metadata": {},
     "output_type": "execute_result"
    }
   ],
   "source": [
    "y.head()"
   ]
  },
  {
   "cell_type": "code",
   "execution_count": 29,
   "metadata": {},
   "outputs": [],
   "source": [
    "import numpy as np\n",
    "\n",
    "\n",
    "def split_sequence(sequence, n_steps):\n",
    "    X, y = list(), list()\n",
    "    for i in range(len(sequence)):\n",
    "        # find the end of this pattern\n",
    "        end_ix = i + n_steps\n",
    "        # check if we are beyond the sequence\n",
    "        if end_ix > len(sequence) - 1:\n",
    "            break\n",
    "        # gather input and output parts of the pattern\n",
    "        seq_x, seq_y = sequence[i:end_ix], sequence[end_ix]\n",
    "        X.append(seq_x)\n",
    "        y.append(seq_y)\n",
    "    return np.array(X), np.array(y)"
   ]
  },
  {
   "cell_type": "code",
   "execution_count": 30,
   "metadata": {},
   "outputs": [],
   "source": [
    "X = [10, 20, 30, 40, 50, 60, 70, 80, 90]"
   ]
  },
  {
   "cell_type": "code",
   "execution_count": 31,
   "metadata": {},
   "outputs": [],
   "source": [
    "n_steps = 3"
   ]
  },
  {
   "cell_type": "code",
   "execution_count": 32,
   "metadata": {},
   "outputs": [],
   "source": [
    "X, y = split_sequence(X, n_steps)"
   ]
  },
  {
   "cell_type": "code",
   "execution_count": 33,
   "metadata": {},
   "outputs": [
    {
     "data": {
      "text/plain": [
       "array([[10, 20, 30],\n",
       "       [20, 30, 40],\n",
       "       [30, 40, 50],\n",
       "       [40, 50, 60],\n",
       "       [50, 60, 70],\n",
       "       [60, 70, 80]])"
      ]
     },
     "execution_count": 33,
     "metadata": {},
     "output_type": "execute_result"
    }
   ],
   "source": [
    "X"
   ]
  },
  {
   "cell_type": "code",
   "execution_count": 34,
   "metadata": {},
   "outputs": [
    {
     "data": {
      "text/plain": [
       "array([40, 50, 60, 70, 80, 90])"
      ]
     },
     "execution_count": 34,
     "metadata": {},
     "output_type": "execute_result"
    }
   ],
   "source": [
    "y"
   ]
  },
  {
   "cell_type": "code",
   "execution_count": 36,
   "metadata": {},
   "outputs": [],
   "source": [
    "from tensorflow import keras"
   ]
  },
  {
   "cell_type": "code",
   "execution_count": 37,
   "metadata": {},
   "outputs": [
    {
     "name": "stderr",
     "output_type": "stream",
     "text": [
      "2022-10-17 10:45:34.174506: W tensorflow/stream_executor/platform/default/dso_loader.cc:64] Could not load dynamic library 'libcuda.so.1'; dlerror: libcuda.so.1: cannot open shared object file: No such file or directory; LD_LIBRARY_PATH: /app/lib\n",
      "2022-10-17 10:45:34.174545: W tensorflow/stream_executor/cuda/cuda_driver.cc:269] failed call to cuInit: UNKNOWN ERROR (303)\n",
      "2022-10-17 10:45:34.174573: I tensorflow/stream_executor/cuda/cuda_diagnostics.cc:156] kernel driver does not appear to be running on this host (pop-os): /proc/driver/nvidia/version does not exist\n",
      "2022-10-17 10:45:34.178804: I tensorflow/core/platform/cpu_feature_guard.cc:193] This TensorFlow binary is optimized with oneAPI Deep Neural Network Library (oneDNN) to use the following CPU instructions in performance-critical operations:  AVX2 FMA\n",
      "To enable them in other operations, rebuild TensorFlow with the appropriate compiler flags.\n"
     ]
    }
   ],
   "source": [
    "# define model\n",
    "model = keras.models.Sequential()\n",
    "model.add(keras.layers.Dense(100, activation=\"relu\", input_dim=n_steps))\n",
    "model.add(keras.layers.Dense(1))\n",
    "model.compile(optimizer=\"adam\", loss=\"mse\")"
   ]
  },
  {
   "cell_type": "code",
   "execution_count": 42,
   "metadata": {},
   "outputs": [
    {
     "name": "stdout",
     "output_type": "stream",
     "text": [
      "Epoch 1/200\n",
      "1/1 [==============================] - 0s 7ms/step - loss: 1937.0470\n",
      "Epoch 2/200\n",
      "1/1 [==============================] - 0s 7ms/step - loss: 1830.4032\n",
      "Epoch 3/200\n",
      "1/1 [==============================] - 0s 5ms/step - loss: 1727.9540\n",
      "Epoch 4/200\n",
      "1/1 [==============================] - 0s 6ms/step - loss: 1629.8126\n",
      "Epoch 5/200\n",
      "1/1 [==============================] - 0s 6ms/step - loss: 1535.2643\n",
      "Epoch 6/200\n",
      "1/1 [==============================] - 0s 8ms/step - loss: 1443.7164\n",
      "Epoch 7/200\n",
      "1/1 [==============================] - 0s 7ms/step - loss: 1355.5659\n",
      "Epoch 8/200\n",
      "1/1 [==============================] - 0s 7ms/step - loss: 1270.8661\n",
      "Epoch 9/200\n",
      "1/1 [==============================] - 0s 5ms/step - loss: 1189.5439\n",
      "Epoch 10/200\n",
      "1/1 [==============================] - 0s 6ms/step - loss: 1111.7380\n",
      "Epoch 11/200\n",
      "1/1 [==============================] - 0s 7ms/step - loss: 1037.5265\n",
      "Epoch 12/200\n",
      "1/1 [==============================] - 0s 6ms/step - loss: 966.6490\n",
      "Epoch 13/200\n",
      "1/1 [==============================] - 0s 7ms/step - loss: 899.2349\n",
      "Epoch 14/200\n",
      "1/1 [==============================] - 0s 6ms/step - loss: 834.9854\n",
      "Epoch 15/200\n",
      "1/1 [==============================] - 0s 5ms/step - loss: 773.8542\n",
      "Epoch 16/200\n",
      "1/1 [==============================] - 0s 5ms/step - loss: 715.9111\n",
      "Epoch 17/200\n",
      "1/1 [==============================] - 0s 6ms/step - loss: 661.0070\n",
      "Epoch 18/200\n",
      "1/1 [==============================] - 0s 5ms/step - loss: 609.0500\n",
      "Epoch 19/200\n",
      "1/1 [==============================] - 0s 8ms/step - loss: 560.2299\n",
      "Epoch 20/200\n",
      "1/1 [==============================] - 0s 7ms/step - loss: 514.4788\n",
      "Epoch 21/200\n",
      "1/1 [==============================] - 0s 5ms/step - loss: 471.5779\n",
      "Epoch 22/200\n",
      "1/1 [==============================] - 0s 7ms/step - loss: 431.3228\n",
      "Epoch 23/200\n",
      "1/1 [==============================] - 0s 5ms/step - loss: 393.7173\n",
      "Epoch 24/200\n",
      "1/1 [==============================] - 0s 9ms/step - loss: 358.6057\n",
      "Epoch 25/200\n",
      "1/1 [==============================] - 0s 5ms/step - loss: 325.8826\n",
      "Epoch 26/200\n",
      "1/1 [==============================] - 0s 8ms/step - loss: 295.4928\n",
      "Epoch 27/200\n",
      "1/1 [==============================] - 0s 6ms/step - loss: 267.3337\n",
      "Epoch 28/200\n",
      "1/1 [==============================] - 0s 7ms/step - loss: 241.3099\n",
      "Epoch 29/200\n",
      "1/1 [==============================] - 0s 5ms/step - loss: 217.3378\n",
      "Epoch 30/200\n",
      "1/1 [==============================] - 0s 5ms/step - loss: 195.3318\n",
      "Epoch 31/200\n",
      "1/1 [==============================] - 0s 6ms/step - loss: 175.2175\n",
      "Epoch 32/200\n",
      "1/1 [==============================] - 0s 6ms/step - loss: 156.8911\n",
      "Epoch 33/200\n",
      "1/1 [==============================] - 0s 5ms/step - loss: 140.2618\n",
      "Epoch 34/200\n",
      "1/1 [==============================] - 0s 5ms/step - loss: 125.2383\n",
      "Epoch 35/200\n",
      "1/1 [==============================] - 0s 5ms/step - loss: 111.7288\n",
      "Epoch 36/200\n",
      "1/1 [==============================] - 0s 5ms/step - loss: 99.6409\n",
      "Epoch 37/200\n",
      "1/1 [==============================] - 0s 7ms/step - loss: 88.8828\n",
      "Epoch 38/200\n",
      "1/1 [==============================] - 0s 6ms/step - loss: 79.3633\n",
      "Epoch 39/200\n",
      "1/1 [==============================] - 0s 8ms/step - loss: 70.9921\n",
      "Epoch 40/200\n",
      "1/1 [==============================] - 0s 6ms/step - loss: 63.6858\n",
      "Epoch 41/200\n",
      "1/1 [==============================] - 0s 5ms/step - loss: 57.3647\n",
      "Epoch 42/200\n",
      "1/1 [==============================] - 0s 5ms/step - loss: 51.9349\n",
      "Epoch 43/200\n",
      "1/1 [==============================] - 0s 6ms/step - loss: 47.3084\n",
      "Epoch 44/200\n",
      "1/1 [==============================] - 0s 5ms/step - loss: 43.4062\n",
      "Epoch 45/200\n",
      "1/1 [==============================] - 0s 5ms/step - loss: 40.1525\n",
      "Epoch 46/200\n",
      "1/1 [==============================] - 0s 5ms/step - loss: 37.4755\n",
      "Epoch 47/200\n",
      "1/1 [==============================] - 0s 5ms/step - loss: 35.3068\n",
      "Epoch 48/200\n",
      "1/1 [==============================] - 0s 6ms/step - loss: 33.5825\n",
      "Epoch 49/200\n",
      "1/1 [==============================] - 0s 5ms/step - loss: 32.2450\n",
      "Epoch 50/200\n",
      "1/1 [==============================] - 0s 5ms/step - loss: 31.2374\n",
      "Epoch 51/200\n",
      "1/1 [==============================] - 0s 6ms/step - loss: 30.5074\n",
      "Epoch 52/200\n",
      "1/1 [==============================] - 0s 6ms/step - loss: 30.0087\n",
      "Epoch 53/200\n",
      "1/1 [==============================] - 0s 6ms/step - loss: 29.6947\n",
      "Epoch 54/200\n",
      "1/1 [==============================] - 0s 7ms/step - loss: 29.5299\n",
      "Epoch 55/200\n",
      "1/1 [==============================] - 0s 6ms/step - loss: 29.4834\n",
      "Epoch 56/200\n",
      "1/1 [==============================] - 0s 7ms/step - loss: 29.5258\n",
      "Epoch 57/200\n",
      "1/1 [==============================] - 0s 5ms/step - loss: 29.6320\n",
      "Epoch 58/200\n",
      "1/1 [==============================] - 0s 5ms/step - loss: 29.7805\n",
      "Epoch 59/200\n",
      "1/1 [==============================] - 0s 6ms/step - loss: 29.9534\n",
      "Epoch 60/200\n",
      "1/1 [==============================] - 0s 6ms/step - loss: 30.1357\n",
      "Epoch 61/200\n",
      "1/1 [==============================] - 0s 7ms/step - loss: 30.3154\n",
      "Epoch 62/200\n",
      "1/1 [==============================] - 0s 5ms/step - loss: 30.4833\n",
      "Epoch 63/200\n",
      "1/1 [==============================] - 0s 7ms/step - loss: 30.6323\n",
      "Epoch 64/200\n",
      "1/1 [==============================] - 0s 5ms/step - loss: 30.7589\n",
      "Epoch 65/200\n",
      "1/1 [==============================] - 0s 7ms/step - loss: 30.8586\n",
      "Epoch 66/200\n",
      "1/1 [==============================] - 0s 5ms/step - loss: 30.9295\n",
      "Epoch 67/200\n",
      "1/1 [==============================] - 0s 8ms/step - loss: 30.9714\n",
      "Epoch 68/200\n",
      "1/1 [==============================] - 0s 6ms/step - loss: 30.9849\n",
      "Epoch 69/200\n",
      "1/1 [==============================] - 0s 5ms/step - loss: 30.9715\n",
      "Epoch 70/200\n",
      "1/1 [==============================] - 0s 5ms/step - loss: 30.9331\n",
      "Epoch 71/200\n",
      "1/1 [==============================] - 0s 7ms/step - loss: 30.8724\n",
      "Epoch 72/200\n",
      "1/1 [==============================] - 0s 5ms/step - loss: 30.7922\n",
      "Epoch 73/200\n",
      "1/1 [==============================] - 0s 7ms/step - loss: 30.6955\n",
      "Epoch 74/200\n",
      "1/1 [==============================] - 0s 6ms/step - loss: 30.5852\n",
      "Epoch 75/200\n",
      "1/1 [==============================] - 0s 7ms/step - loss: 30.4642\n",
      "Epoch 76/200\n",
      "1/1 [==============================] - 0s 6ms/step - loss: 30.3356\n",
      "Epoch 77/200\n",
      "1/1 [==============================] - 0s 6ms/step - loss: 30.2019\n",
      "Epoch 78/200\n",
      "1/1 [==============================] - 0s 6ms/step - loss: 30.0655\n",
      "Epoch 79/200\n",
      "1/1 [==============================] - 0s 7ms/step - loss: 29.9287\n",
      "Epoch 80/200\n",
      "1/1 [==============================] - 0s 5ms/step - loss: 29.7932\n",
      "Epoch 81/200\n",
      "1/1 [==============================] - 0s 6ms/step - loss: 29.6608\n",
      "Epoch 82/200\n",
      "1/1 [==============================] - 0s 5ms/step - loss: 29.5328\n",
      "Epoch 83/200\n",
      "1/1 [==============================] - 0s 5ms/step - loss: 29.4102\n",
      "Epoch 84/200\n",
      "1/1 [==============================] - 0s 5ms/step - loss: 29.2937\n",
      "Epoch 85/200\n",
      "1/1 [==============================] - 0s 6ms/step - loss: 29.1841\n",
      "Epoch 86/200\n",
      "1/1 [==============================] - 0s 5ms/step - loss: 29.0816\n",
      "Epoch 87/200\n",
      "1/1 [==============================] - 0s 7ms/step - loss: 28.9863\n",
      "Epoch 88/200\n",
      "1/1 [==============================] - 0s 6ms/step - loss: 28.8984\n",
      "Epoch 89/200\n",
      "1/1 [==============================] - 0s 6ms/step - loss: 28.8178\n",
      "Epoch 90/200\n",
      "1/1 [==============================] - 0s 5ms/step - loss: 28.7448\n",
      "Epoch 91/200\n",
      "1/1 [==============================] - 0s 6ms/step - loss: 28.6782\n",
      "Epoch 92/200\n",
      "1/1 [==============================] - 0s 6ms/step - loss: 28.6178\n",
      "Epoch 93/200\n",
      "1/1 [==============================] - 0s 6ms/step - loss: 28.5628\n",
      "Epoch 94/200\n",
      "1/1 [==============================] - 0s 5ms/step - loss: 28.5128\n",
      "Epoch 95/200\n",
      "1/1 [==============================] - 0s 5ms/step - loss: 28.4673\n",
      "Epoch 96/200\n",
      "1/1 [==============================] - 0s 4ms/step - loss: 28.4256\n",
      "Epoch 97/200\n",
      "1/1 [==============================] - 0s 5ms/step - loss: 28.3873\n",
      "Epoch 98/200\n",
      "1/1 [==============================] - 0s 5ms/step - loss: 28.3519\n",
      "Epoch 99/200\n",
      "1/1 [==============================] - 0s 7ms/step - loss: 28.3187\n",
      "Epoch 100/200\n",
      "1/1 [==============================] - 0s 11ms/step - loss: 28.2875\n",
      "Epoch 101/200\n",
      "1/1 [==============================] - 0s 12ms/step - loss: 28.2579\n",
      "Epoch 102/200\n",
      "1/1 [==============================] - 0s 8ms/step - loss: 28.2297\n",
      "Epoch 103/200\n",
      "1/1 [==============================] - 0s 8ms/step - loss: 28.2019\n",
      "Epoch 104/200\n",
      "1/1 [==============================] - 0s 7ms/step - loss: 28.1746\n",
      "Epoch 105/200\n",
      "1/1 [==============================] - 0s 5ms/step - loss: 28.1474\n",
      "Epoch 106/200\n",
      "1/1 [==============================] - 0s 10ms/step - loss: 28.1203\n",
      "Epoch 107/200\n",
      "1/1 [==============================] - 0s 7ms/step - loss: 28.0931\n",
      "Epoch 108/200\n",
      "1/1 [==============================] - 0s 6ms/step - loss: 28.0655\n",
      "Epoch 109/200\n",
      "1/1 [==============================] - 0s 7ms/step - loss: 28.0377\n",
      "Epoch 110/200\n",
      "1/1 [==============================] - 0s 5ms/step - loss: 28.0094\n",
      "Epoch 111/200\n",
      "1/1 [==============================] - 0s 8ms/step - loss: 27.9807\n",
      "Epoch 112/200\n",
      "1/1 [==============================] - 0s 6ms/step - loss: 27.9515\n",
      "Epoch 113/200\n",
      "1/1 [==============================] - 0s 7ms/step - loss: 27.9218\n",
      "Epoch 114/200\n",
      "1/1 [==============================] - 0s 5ms/step - loss: 27.8917\n",
      "Epoch 115/200\n",
      "1/1 [==============================] - 0s 8ms/step - loss: 27.8612\n",
      "Epoch 116/200\n",
      "1/1 [==============================] - 0s 6ms/step - loss: 27.8302\n",
      "Epoch 117/200\n",
      "1/1 [==============================] - 0s 6ms/step - loss: 27.7989\n",
      "Epoch 118/200\n",
      "1/1 [==============================] - 0s 8ms/step - loss: 27.7673\n",
      "Epoch 119/200\n",
      "1/1 [==============================] - 0s 7ms/step - loss: 27.7354\n",
      "Epoch 120/200\n",
      "1/1 [==============================] - 0s 7ms/step - loss: 27.7033\n",
      "Epoch 121/200\n",
      "1/1 [==============================] - 0s 5ms/step - loss: 27.6709\n",
      "Epoch 122/200\n",
      "1/1 [==============================] - 0s 7ms/step - loss: 27.6385\n",
      "Epoch 123/200\n",
      "1/1 [==============================] - 0s 8ms/step - loss: 27.6059\n",
      "Epoch 124/200\n",
      "1/1 [==============================] - 0s 6ms/step - loss: 27.5732\n",
      "Epoch 125/200\n",
      "1/1 [==============================] - 0s 5ms/step - loss: 27.5405\n",
      "Epoch 126/200\n",
      "1/1 [==============================] - 0s 6ms/step - loss: 27.5077\n",
      "Epoch 127/200\n",
      "1/1 [==============================] - 0s 4ms/step - loss: 27.4749\n",
      "Epoch 128/200\n",
      "1/1 [==============================] - 0s 6ms/step - loss: 27.4421\n",
      "Epoch 129/200\n",
      "1/1 [==============================] - 0s 4ms/step - loss: 27.4093\n",
      "Epoch 130/200\n",
      "1/1 [==============================] - 0s 7ms/step - loss: 27.3765\n",
      "Epoch 131/200\n",
      "1/1 [==============================] - 0s 7ms/step - loss: 27.3437\n",
      "Epoch 132/200\n",
      "1/1 [==============================] - 0s 7ms/step - loss: 27.3109\n",
      "Epoch 133/200\n",
      "1/1 [==============================] - 0s 4ms/step - loss: 27.2782\n",
      "Epoch 134/200\n",
      "1/1 [==============================] - 0s 6ms/step - loss: 27.2454\n",
      "Epoch 135/200\n",
      "1/1 [==============================] - 0s 4ms/step - loss: 27.2127\n",
      "Epoch 136/200\n",
      "1/1 [==============================] - 0s 6ms/step - loss: 27.1799\n",
      "Epoch 137/200\n",
      "1/1 [==============================] - 0s 5ms/step - loss: 27.1472\n",
      "Epoch 138/200\n",
      "1/1 [==============================] - 0s 7ms/step - loss: 27.1144\n",
      "Epoch 139/200\n",
      "1/1 [==============================] - 0s 6ms/step - loss: 27.0815\n",
      "Epoch 140/200\n",
      "1/1 [==============================] - 0s 6ms/step - loss: 27.0487\n",
      "Epoch 141/200\n",
      "1/1 [==============================] - 0s 5ms/step - loss: 27.0158\n",
      "Epoch 142/200\n",
      "1/1 [==============================] - 0s 8ms/step - loss: 26.9829\n",
      "Epoch 143/200\n",
      "1/1 [==============================] - 0s 5ms/step - loss: 26.9499\n",
      "Epoch 144/200\n",
      "1/1 [==============================] - 0s 8ms/step - loss: 26.9169\n",
      "Epoch 145/200\n",
      "1/1 [==============================] - 0s 5ms/step - loss: 26.8837\n",
      "Epoch 146/200\n",
      "1/1 [==============================] - 0s 6ms/step - loss: 26.8506\n",
      "Epoch 147/200\n",
      "1/1 [==============================] - 0s 4ms/step - loss: 26.8174\n",
      "Epoch 148/200\n",
      "1/1 [==============================] - 0s 6ms/step - loss: 26.7840\n",
      "Epoch 149/200\n",
      "1/1 [==============================] - 0s 4ms/step - loss: 26.7507\n",
      "Epoch 150/200\n",
      "1/1 [==============================] - 0s 5ms/step - loss: 26.7172\n",
      "Epoch 151/200\n",
      "1/1 [==============================] - 0s 7ms/step - loss: 26.6837\n",
      "Epoch 152/200\n",
      "1/1 [==============================] - 0s 9ms/step - loss: 26.6501\n",
      "Epoch 153/200\n",
      "1/1 [==============================] - 0s 7ms/step - loss: 26.6164\n",
      "Epoch 154/200\n",
      "1/1 [==============================] - 0s 7ms/step - loss: 26.5827\n",
      "Epoch 155/200\n",
      "1/1 [==============================] - 0s 8ms/step - loss: 26.5490\n",
      "Epoch 156/200\n",
      "1/1 [==============================] - 0s 7ms/step - loss: 26.5152\n",
      "Epoch 157/200\n",
      "1/1 [==============================] - 0s 8ms/step - loss: 26.4814\n",
      "Epoch 158/200\n",
      "1/1 [==============================] - 0s 9ms/step - loss: 26.4478\n",
      "Epoch 159/200\n",
      "1/1 [==============================] - 0s 6ms/step - loss: 26.4157\n",
      "Epoch 160/200\n",
      "1/1 [==============================] - 0s 7ms/step - loss: 26.3836\n",
      "Epoch 161/200\n",
      "1/1 [==============================] - 0s 5ms/step - loss: 26.3514\n",
      "Epoch 162/200\n",
      "1/1 [==============================] - 0s 9ms/step - loss: 26.3191\n",
      "Epoch 163/200\n",
      "1/1 [==============================] - 0s 6ms/step - loss: 26.2869\n",
      "Epoch 164/200\n",
      "1/1 [==============================] - 0s 8ms/step - loss: 26.2545\n",
      "Epoch 165/200\n",
      "1/1 [==============================] - 0s 10ms/step - loss: 26.2221\n",
      "Epoch 166/200\n",
      "1/1 [==============================] - 0s 8ms/step - loss: 26.1896\n",
      "Epoch 167/200\n",
      "1/1 [==============================] - 0s 7ms/step - loss: 26.1571\n",
      "Epoch 168/200\n",
      "1/1 [==============================] - 0s 6ms/step - loss: 26.1245\n",
      "Epoch 169/200\n",
      "1/1 [==============================] - 0s 6ms/step - loss: 26.0919\n",
      "Epoch 170/200\n",
      "1/1 [==============================] - 0s 4ms/step - loss: 26.0592\n",
      "Epoch 171/200\n",
      "1/1 [==============================] - 0s 7ms/step - loss: 26.0265\n",
      "Epoch 172/200\n",
      "1/1 [==============================] - 0s 5ms/step - loss: 25.9937\n",
      "Epoch 173/200\n",
      "1/1 [==============================] - 0s 5ms/step - loss: 25.9609\n",
      "Epoch 174/200\n",
      "1/1 [==============================] - 0s 4ms/step - loss: 25.9280\n",
      "Epoch 175/200\n",
      "1/1 [==============================] - 0s 5ms/step - loss: 25.8951\n",
      "Epoch 176/200\n",
      "1/1 [==============================] - 0s 5ms/step - loss: 25.8620\n",
      "Epoch 177/200\n",
      "1/1 [==============================] - 0s 5ms/step - loss: 25.8290\n",
      "Epoch 178/200\n",
      "1/1 [==============================] - 0s 5ms/step - loss: 25.7959\n",
      "Epoch 179/200\n",
      "1/1 [==============================] - 0s 5ms/step - loss: 25.7627\n",
      "Epoch 180/200\n",
      "1/1 [==============================] - 0s 6ms/step - loss: 25.7295\n",
      "Epoch 181/200\n",
      "1/1 [==============================] - 0s 4ms/step - loss: 25.6962\n",
      "Epoch 182/200\n",
      "1/1 [==============================] - 0s 7ms/step - loss: 25.6629\n",
      "Epoch 183/200\n",
      "1/1 [==============================] - 0s 4ms/step - loss: 25.6295\n",
      "Epoch 184/200\n",
      "1/1 [==============================] - 0s 9ms/step - loss: 25.5964\n",
      "Epoch 185/200\n",
      "1/1 [==============================] - 0s 6ms/step - loss: 25.5636\n",
      "Epoch 186/200\n",
      "1/1 [==============================] - 0s 7ms/step - loss: 25.5308\n",
      "Epoch 187/200\n",
      "1/1 [==============================] - 0s 6ms/step - loss: 25.4979\n",
      "Epoch 188/200\n",
      "1/1 [==============================] - 0s 5ms/step - loss: 25.4650\n",
      "Epoch 189/200\n",
      "1/1 [==============================] - 0s 9ms/step - loss: 25.4320\n",
      "Epoch 190/200\n",
      "1/1 [==============================] - 0s 5ms/step - loss: 25.3990\n",
      "Epoch 191/200\n",
      "1/1 [==============================] - 0s 6ms/step - loss: 25.3659\n",
      "Epoch 192/200\n",
      "1/1 [==============================] - 0s 7ms/step - loss: 25.3327\n",
      "Epoch 193/200\n",
      "1/1 [==============================] - 0s 8ms/step - loss: 25.2995\n",
      "Epoch 194/200\n",
      "1/1 [==============================] - 0s 9ms/step - loss: 25.2663\n",
      "Epoch 195/200\n",
      "1/1 [==============================] - 0s 13ms/step - loss: 25.2330\n",
      "Epoch 196/200\n",
      "1/1 [==============================] - 0s 6ms/step - loss: 25.1996\n",
      "Epoch 197/200\n",
      "1/1 [==============================] - 0s 8ms/step - loss: 25.1662\n",
      "Epoch 198/200\n",
      "1/1 [==============================] - 0s 13ms/step - loss: 25.1328\n",
      "Epoch 199/200\n",
      "1/1 [==============================] - 0s 6ms/step - loss: 25.0993\n",
      "Epoch 200/200\n",
      "1/1 [==============================] - 0s 7ms/step - loss: 25.0657\n"
     ]
    },
    {
     "data": {
      "text/plain": [
       "<keras.callbacks.History at 0x7f5ff5e49a00>"
      ]
     },
     "execution_count": 42,
     "metadata": {},
     "output_type": "execute_result"
    }
   ],
   "source": [
    "model.fit(X, y, epochs=200)"
   ]
  },
  {
   "cell_type": "code",
   "execution_count": 43,
   "metadata": {},
   "outputs": [
    {
     "data": {
      "text/plain": [
       "(1, 3)"
      ]
     },
     "execution_count": 43,
     "metadata": {},
     "output_type": "execute_result"
    }
   ],
   "source": [
    "x_input = np.array([70, 80, 90])\n",
    "x_input = x_input.reshape((1, n_steps))\n",
    "x_input.shape"
   ]
  },
  {
   "cell_type": "code",
   "execution_count": 44,
   "metadata": {},
   "outputs": [
    {
     "name": "stdout",
     "output_type": "stream",
     "text": [
      "1/1 [==============================] - 0s 20ms/step\n"
     ]
    },
    {
     "data": {
      "text/plain": [
       "array([[107.75781]], dtype=float32)"
      ]
     },
     "execution_count": 44,
     "metadata": {},
     "output_type": "execute_result"
    }
   ],
   "source": [
    "model.predict(x_input)"
   ]
  },
  {
   "cell_type": "code",
   "execution_count": null,
   "metadata": {},
   "outputs": [],
   "source": []
  }
 ],
 "metadata": {
  "colab": {
   "collapsed_sections": [],
   "provenance": []
  },
  "interpreter": {
   "hash": "e0810de9a50ad13c45b0d4dc7d175c8f87a08de49fe82453ca733c71cdd5f2ad"
  },
  "kernelspec": {
   "display_name": "Python 3.9.9 ('sktime-dev': venv)",
   "language": "python",
   "name": "python3"
  },
  "language_info": {
   "codemirror_mode": {
    "name": "ipython",
    "version": 3
   },
   "file_extension": ".py",
   "mimetype": "text/x-python",
   "name": "python",
   "nbconvert_exporter": "python",
   "pygments_lexer": "ipython3",
   "version": "3.9.9"
  }
 },
 "nbformat": 4,
 "nbformat_minor": 0
}
